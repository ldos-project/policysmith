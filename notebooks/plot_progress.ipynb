{
 "cells": [
  {
   "cell_type": "code",
   "execution_count": null,
   "id": "b55b8d50-663c-44c6-8150-8fd76c9d5499",
   "metadata": {},
   "outputs": [],
   "source": [
    "import pandas as pd\n",
    "import matplotlib.pyplot as plt\n",
    "import pymongo\n",
    "\n",
    "COLLECTION_NAME = \"PS-A\"\n",
    "\n",
    "client = pymongo.MongoClient(\"mongodb://localhost:27017/\")\n",
    "db = client[\"policysmith\"]\n",
    "results = list(db[COLLECTION_NAME].find({}))"
   ]
  },
  {
   "cell_type": "code",
   "execution_count": null,
   "id": "02d6ec9b-6f46-4d42-99d4-4b9135347d9d",
   "metadata": {},
   "outputs": [],
   "source": [
    "run_info = list(db[\"information\"].find({\"collection_id\": COLLECTION_NAME}))\n",
    "run_info = run_info[0]['task_args']\n",
    "baselines = list(db['baselines_percent'].find({'trace_name': run_info['trace'], 'percent': run_info['eval_cache_size']}))"
   ]
  },
  {
   "cell_type": "code",
   "execution_count": null,
   "id": "acce2fdf-adb1-4996-9616-e16e696f6e68",
   "metadata": {},
   "outputs": [],
   "source": [
    "df = pd.DataFrame(results)\n",
    "df[\"idx\"] = df[\"iter\"] * (df[\"_sample\"].max() + 1) + df[\"_sample\"]\n",
    "df = df[df['build_status'] & df['exec_status']]\n",
    "df = df.sort_values(by='idx')\n",
    "\n",
    "t_idx = 0\n",
    "while t_idx < len(results):\n",
    "    result_object = results[t_idx]['eval_results']\n",
    "    if result_object is not None and 'results' in result_object.keys():\n",
    "        result_object = result_object['results']\n",
    "        break\n",
    "    t_idx += 1\n",
    "\n",
    "CACHE_SIZES = list(map(lambda x: x['cache_size_mb'], result_object))\n",
    "    \n",
    "\n",
    "for cache_size in CACHE_SIZES:\n",
    "    df[f'obj_hit_rate_{cache_size}'] = df['eval_results'].apply(\n",
    "       lambda x:  1 - list(filter(lambda y: y['cache_size_mb'] == cache_size, x['results']))[0]['miss_ratio']\n",
    "    )\n",
    "    \n",
    "    df[f'byte_hit_rate_{cache_size}'] = df['eval_results'].apply(\n",
    "       lambda x:  1 - list(filter(lambda y: y['cache_size_mb'] == cache_size, x['results']))[0]['byte_miss_ratio']\n",
    "    )"
   ]
  },
  {
   "cell_type": "code",
   "execution_count": null,
   "id": "21c2d454-8576-4019-b937-7958bb28d428",
   "metadata": {},
   "outputs": [],
   "source": [
    "TO_PLOT = \"obj_hit_rate\"\n",
    "# TO_PLOT = \"byte_hit_rate\"\n",
    "\n",
    "relevant_columns = list(filter(lambda x: x.startswith(TO_PLOT), df.columns))\n",
    "\n",
    "fig, axes = plt.subplots(2, 2, figsize=(12, 8), sharex=False)\n",
    "axes = axes.flatten()\n",
    "\n",
    "for i, cache_size_to_plot in enumerate(CACHE_SIZES):\n",
    "    col = f\"{TO_PLOT}_{cache_size_to_plot}\"\n",
    "    \n",
    "    axes[i].plot(df['idx'], df[col].cummax())\n",
    "    axes[i].set_title(f\"{COLLECTION_NAME} - {col}\")\n",
    "    axes[i].set_xlabel(\"Iteration\")\n",
    "    axes[i].set_ylabel(f\"Best {TO_PLOT} so far\")\n",
    "    relevant_baselines = list(filter(lambda x: x['cache_size_mb'] == cache_size_to_plot, baselines))\n",
    "    if len(relevant_baselines) > 0:\n",
    "        assert TO_PLOT == \"obj_hit_rate\"\n",
    "        # relevant_baselines = sorted(relevant_baselines, key=lambda x: x['miss_ratio'] if TO_PLOT == \"obj_hit_rate\" else x[\"byte_miss_ratio\"])[:3]\n",
    "        relevant_baselines = sorted(relevant_baselines, key=lambda x: x['miss_ratio'])[:3]\n",
    "        print(cache_size_to_plot, relevant_baselines)\n",
    "        for horiz_line in relevant_baselines:\n",
    "            axes[i].axhline( y= 1 - horiz_line['miss_ratio'], ls='--')\n",
    "            axes[i].annotate(f\"{horiz_line['cache_name']}\",\n",
    "                xy=(1, 1 - horiz_line['miss_ratio']), xycoords=('axes fraction', 'data'),\n",
    "                xytext=(4, 0), textcoords='offset points',\n",
    "                va='center', ha='left', fontsize=6)\n",
    "\n",
    "plt.tight_layout()\n",
    "plt.show()"
   ]
  },
  {
   "cell_type": "code",
   "execution_count": null,
   "id": "81b8e152-4e66-4689-8c7d-448189495e03",
   "metadata": {},
   "outputs": [],
   "source": [
    "COLUMN_TO_CALC_MAX = 'obj_hit_rate_2233'\n",
    "increasing_max_idx = df.index[df[COLUMN_TO_CALC_MAX] > df[COLUMN_TO_CALC_MAX].cummax().shift(fill_value=float('-inf'))]"
   ]
  },
  {
   "cell_type": "code",
   "execution_count": null,
   "id": "a4c3ad41-0de0-4b23-af24-7c18290ea2d0",
   "metadata": {},
   "outputs": [],
   "source": [
    "df.loc[increasing_max_idx]"
   ]
  }
 ],
 "metadata": {
  "kernelspec": {
   "display_name": "Python 3",
   "language": "python",
   "name": "python3"
  },
  "language_info": {
   "codemirror_mode": {
    "name": "ipython",
    "version": 3
   },
   "file_extension": ".py",
   "mimetype": "text/x-python",
   "name": "python",
   "nbconvert_exporter": "python",
   "pygments_lexer": "ipython3",
   "version": "3.10.12"
  }
 },
 "nbformat": 4,
 "nbformat_minor": 5
}
